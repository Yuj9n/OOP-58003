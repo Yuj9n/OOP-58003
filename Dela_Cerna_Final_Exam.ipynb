{
  "nbformat": 4,
  "nbformat_minor": 0,
  "metadata": {
    "colab": {
      "name": "Dela Cerna Final Exam.ipynb",
      "provenance": [],
      "authorship_tag": "ABX9TyNSnIIimUwGcCa62FiuWYs/",
      "include_colab_link": true
    },
    "kernelspec": {
      "name": "python3",
      "display_name": "Python 3"
    },
    "language_info": {
      "name": "python"
    }
  },
  "cells": [
    {
      "cell_type": "markdown",
      "metadata": {
        "id": "view-in-github",
        "colab_type": "text"
      },
      "source": [
        "<a href=\"https://colab.research.google.com/github/Yuj9n/OOP-58003/blob/main/Dela_Cerna_Final_Exam.ipynb\" target=\"_parent\"><img src=\"https://colab.research.google.com/assets/colab-badge.svg\" alt=\"Open In Colab\"/></a>"
      ]
    },
    {
      "cell_type": "code",
      "source": [
        "from tkinter import *\n",
        "\n",
        "window = Tk()\n",
        "window.title(\"Finding Smallest Number\")\n",
        "window.geometry(\"550x350+20+100\")\n",
        "\n",
        "def findSmallest():\n",
        "    L = []\n",
        "    L.append(eval(Num1.get()))\n",
        "    L.append(eval(Num2.get()))\n",
        "    L.append(eval(Num3.get()))\n",
        "    LNum.set(min(L))\n",
        "\n",
        "#labels\n",
        "\n",
        "lbl1 = Label(window, text = \"Find the least number among three numbers\",justify='center')\n",
        "lbl1.grid(row=0, column=1,pady=5)\n",
        "\n",
        "lbl2 = Label(window,text = \"Enter the first number:\")\n",
        "lbl2.grid(row=1, column = 0,sticky=W,pady=5, padx=5)\n",
        "\n",
        "lbl3 = Label(window,text = \"Enter the second number:\")\n",
        "lbl3.grid(row=2, column=0, pady=5, padx=5)\n",
        "\n",
        "lbl4 = Label(window,text=\"Enter the third number:\")\n",
        "lbl4.grid(row=3,column =0, sticky=W, pady=5, padx=5)\n",
        "\n",
        "lbl5 = Label(window,text=\"The smallest number:\")\n",
        "lbl5.grid(row=5,column=0,sticky=W, pady=5, padx=5)\n",
        "\n",
        "#entry\n",
        "Num1 = StringVar()\n",
        "entr1 = Entry(window,bd=3,textvariable=Num1)\n",
        "entr1.grid(row=1, column = 1, pady=5, padx=5)\n",
        "\n",
        "Num2=StringVar()\n",
        "entr2 = Entry(window,bd=3,textvariable=Num2)\n",
        "entr2.grid(row=2,column=1, pady=5, padx=5)\n",
        "\n",
        "Num3 = StringVar()\n",
        "entr3 = Entry(window,bd=3,textvariable=Num3)\n",
        "entr3.grid(row=3, column=1, pady=5, padx=5)\n",
        "\n",
        "LNum = StringVar()\n",
        "entr4 = Entry(window,bd=3,state=\"readonly\",textvariable=LNum)\n",
        "entr4.grid(row=5,column=1, pady=5, padx=5)\n",
        "\n",
        "#button\n",
        "\n",
        "btn1 = Button(window,text = \"The smallest number among the three is:\",command = findSmallest)\n",
        "btn1.grid(row=4, column = 1, pady=5, padx=5)\n",
        "\n",
        "mainloop()"
      ],
      "metadata": {
        "id": "sNhQCoWP4iAI"
      },
      "execution_count": null,
      "outputs": []
    }
  ]
}