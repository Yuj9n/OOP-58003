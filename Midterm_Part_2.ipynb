{
  "nbformat": 4,
  "nbformat_minor": 0,
  "metadata": {
    "colab": {
      "name": "Midterm Part 2.ipynb",
      "provenance": [],
      "authorship_tag": "ABX9TyOh3vvvD1tKbF9Xi1feTDjX",
      "include_colab_link": true
    },
    "kernelspec": {
      "name": "python3",
      "display_name": "Python 3"
    },
    "language_info": {
      "name": "python"
    }
  },
  "cells": [
    {
      "cell_type": "markdown",
      "metadata": {
        "id": "view-in-github",
        "colab_type": "text"
      },
      "source": [
        "<a href=\"https://colab.research.google.com/github/Yuj9n/OOP-58003/blob/main/Midterm_Part_2.ipynb\" target=\"_parent\"><img src=\"https://colab.research.google.com/assets/colab-badge.svg\" alt=\"Open In Colab\"/></a>"
      ]
    },
    {
      "cell_type": "code",
      "execution_count": null,
      "metadata": {
        "id": "2xhM6a0-qe-9"
      },
      "outputs": [],
      "source": [
        "window=Tk()\n",
        "btn=Button(window, text=\"Click to display your Fullname\", fg='blue')\n",
        "btn.place(x=80, y=100)\n",
        "lbl=Label(window, text=\"Hello There\", fg='red', font=(\"Times New Roman\", 16))\n",
        "lbl.place(x=60, y=50)\n",
        "txtfld=Entry(window, text=\"Eugene Brian B. Dela Cerna\", bd=5)\n",
        "txtfld.place(x=80, y=150)\n",
        "window.title('Midterm in OOP')\n",
        "window.geometry(\"300x200+10+10\")\n",
        "window.mainloop()"
      ]
    }
  ]
}